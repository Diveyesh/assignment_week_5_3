{
  "nbformat": 4,
  "nbformat_minor": 0,
  "metadata": {
    "colab": {
      "provenance": []
    },
    "kernelspec": {
      "name": "python3",
      "display_name": "Python 3"
    },
    "language_info": {
      "name": "python"
    }
  },
  "cells": [
    {
      "cell_type": "markdown",
      "source": [
        "# Submitted by - Diveyesh"
      ],
      "metadata": {
        "id": "e3vmop7Gwttd"
      }
    },
    {
      "cell_type": "markdown",
      "source": [
        "#Question - 1"
      ],
      "metadata": {
        "id": "jrtMTp3Qwtc_"
      }
    },
    {
      "cell_type": "code",
      "execution_count": 1,
      "metadata": {
        "id": "2JZ6AvYHwnmW"
      },
      "outputs": [],
      "source": [
        "# Multithreading is a threading technique in Python programming that allows numerous threads to execute concurrently,\n",
        "# by fast switching between threads with the assistance of a CPU."
      ]
    },
    {
      "cell_type": "code",
      "source": [
        "# It guarantees efficient use of computer system resources.\n",
        "# It saves time by running numerous threads concurrently.\n",
        "# The system does not need a lot of memory to store several threads."
      ],
      "metadata": {
        "id": "T4m1NIFPw27Z"
      },
      "execution_count": 2,
      "outputs": []
    },
    {
      "cell_type": "code",
      "source": [
        "# threading module is used to handle threads in python."
      ],
      "metadata": {
        "id": "j8LsCPLFw25c"
      },
      "execution_count": 3,
      "outputs": []
    },
    {
      "cell_type": "code",
      "source": [
        "import threading"
      ],
      "metadata": {
        "id": "7AR5OlmYw22d"
      },
      "execution_count": 4,
      "outputs": []
    },
    {
      "cell_type": "markdown",
      "source": [
        "#Question - 2"
      ],
      "metadata": {
        "id": "GcLbji6yzzH1"
      }
    },
    {
      "cell_type": "code",
      "source": [
        "# Threading module is used for creating, controlling and managing threads in python.\n",
        "# Threading allows a user to run different parts of the program in a concurrent manner"
      ],
      "metadata": {
        "id": "8MXfh7VZw2z_"
      },
      "execution_count": 5,
      "outputs": []
    },
    {
      "cell_type": "markdown",
      "source": [
        "activeCount()"
      ],
      "metadata": {
        "id": "AKuNxye92AkF"
      }
    },
    {
      "cell_type": "code",
      "source": [
        "#The threading.activeCount() is an inbuilt method of the threading module,\n",
        "#It is used to return the number of Thread objects that are active at any instant.\n",
        "#Examples is shown as below:-"
      ],
      "metadata": {
        "id": "CaX3IASmw2xo"
      },
      "execution_count": 7,
      "outputs": []
    },
    {
      "cell_type": "code",
      "source": [
        "import threading\n"
      ],
      "metadata": {
        "id": "rinzrY_Dw2u1"
      },
      "execution_count": 18,
      "outputs": []
    },
    {
      "cell_type": "code",
      "source": [
        "def func_1(name):\n",
        "  print(f\"The name of the student is {name}\")"
      ],
      "metadata": {
        "id": "a-rzrVaSw2sS"
      },
      "execution_count": 19,
      "outputs": []
    },
    {
      "cell_type": "code",
      "source": [
        "thread_1 = [threading.Thread(target=func_1,args=(i,)) for i in [\"shyam\",\"mohan\",\"ram\"]]"
      ],
      "metadata": {
        "id": "8iyeLbLxw2pz"
      },
      "execution_count": 20,
      "outputs": []
    },
    {
      "cell_type": "code",
      "source": [
        "thread_1"
      ],
      "metadata": {
        "id": "1xqddEhww2m0",
        "colab": {
          "base_uri": "https://localhost:8080/"
        },
        "outputId": "3ce474f5-7d3a-4d5e-efbf-eace60bfe3a5"
      },
      "execution_count": 21,
      "outputs": [
        {
          "output_type": "execute_result",
          "data": {
            "text/plain": [
              "[<Thread(Thread-13 (func_1), initial)>,\n",
              " <Thread(Thread-14 (func_1), initial)>,\n",
              " <Thread(Thread-15 (func_1), initial)>]"
            ]
          },
          "metadata": {},
          "execution_count": 21
        }
      ]
    },
    {
      "cell_type": "code",
      "source": [
        "threading.active_count()"
      ],
      "metadata": {
        "id": "dNMxKtbOw2kX",
        "colab": {
          "base_uri": "https://localhost:8080/"
        },
        "outputId": "27d318d9-b34c-42e0-dcbd-47cbd9d83650"
      },
      "execution_count": 22,
      "outputs": [
        {
          "output_type": "execute_result",
          "data": {
            "text/plain": [
              "5"
            ]
          },
          "metadata": {},
          "execution_count": 22
        }
      ]
    },
    {
      "cell_type": "code",
      "source": [
        "for i in thread_1:\n",
        "  i.start()\n",
        ""
      ],
      "metadata": {
        "id": "ADrzTRPuw2hU",
        "colab": {
          "base_uri": "https://localhost:8080/"
        },
        "outputId": "f7e0be30-44b2-4400-f9f2-c52a35b4ada1"
      },
      "execution_count": 23,
      "outputs": [
        {
          "output_type": "stream",
          "name": "stdout",
          "text": [
            "The name of the student is shyam\n",
            "The name of the student is mohan\n",
            "The name of the student is ram\n"
          ]
        }
      ]
    },
    {
      "cell_type": "code",
      "source": [
        "threading.active_count()"
      ],
      "metadata": {
        "id": "G9rN_F6Aw2e9",
        "colab": {
          "base_uri": "https://localhost:8080/"
        },
        "outputId": "b36000fb-f0c0-431c-854f-7516190d0f5f"
      },
      "execution_count": 24,
      "outputs": [
        {
          "output_type": "execute_result",
          "data": {
            "text/plain": [
              "5"
            ]
          },
          "metadata": {},
          "execution_count": 24
        }
      ]
    },
    {
      "cell_type": "markdown",
      "source": [
        "currentThread()"
      ],
      "metadata": {
        "id": "KDNzZtfI3_nR"
      }
    },
    {
      "cell_type": "code",
      "source": [
        "#The threading.current_thread() is an inbuilt method of the threading module,\n",
        "#It is used to return the current Thread object, which corresponds to the caller's thread of control."
      ],
      "metadata": {
        "id": "mYEHx5MUw2cN"
      },
      "execution_count": 27,
      "outputs": []
    },
    {
      "cell_type": "code",
      "source": [
        "import threading"
      ],
      "metadata": {
        "id": "awXJz9a8w2Zb"
      },
      "execution_count": 28,
      "outputs": []
    },
    {
      "cell_type": "code",
      "source": [
        "current_thread_name= threading.current_thread()"
      ],
      "metadata": {
        "id": "gH8xXMAP56We"
      },
      "execution_count": 35,
      "outputs": []
    },
    {
      "cell_type": "code",
      "source": [
        "def func_1(name):\n",
        "  print(f\"The name of the student is {name}\")\n",
        "  print(f\"The name of the current thread is {current_thread_name.name}\")"
      ],
      "metadata": {
        "id": "YYr3p1H-w2Wm"
      },
      "execution_count": 40,
      "outputs": []
    },
    {
      "cell_type": "code",
      "source": [
        "thread_2 = [threading.Thread(target=func_1,args=(i,)) for i in [\"shyam\",\"mohan\",\"ram\"]]"
      ],
      "metadata": {
        "id": "INSPSrPLw2UB"
      },
      "execution_count": 41,
      "outputs": []
    },
    {
      "cell_type": "code",
      "source": [
        "for i in thread_2:\n",
        "  i.start()"
      ],
      "metadata": {
        "id": "rQ30OuZAw2RM",
        "colab": {
          "base_uri": "https://localhost:8080/"
        },
        "outputId": "091971cd-5fe9-4802-b2ec-0e45b144e4d5"
      },
      "execution_count": 42,
      "outputs": [
        {
          "output_type": "stream",
          "name": "stdout",
          "text": [
            "The name of the student is shyam\n",
            "The name of the current thread is MainThread\n",
            "The name of the student is mohan\n",
            "The name of the current thread is MainThread\n",
            "The name of the student is ram"
          ]
        }
      ]
    },
    {
      "cell_type": "markdown",
      "source": [
        "enumerate()"
      ],
      "metadata": {
        "id": "yONAWJGj6oCQ"
      }
    },
    {
      "cell_type": "code",
      "source": [
        "# Enumerate function is used to iterate over a sequence (such as a list, tuple, or string) while keeping track of the index of each element.\n",
        "# It returns an iterator of tuples, where each tuple contains the index and the corresponding element from the sequence."
      ],
      "metadata": {
        "id": "0ilqmo07w2Op"
      },
      "execution_count": null,
      "outputs": []
    },
    {
      "cell_type": "code",
      "source": [
        "list_1 = [\"ram\",\"shyam\",\"rohan\",\"sohan\",\"shivam\"]\n",
        "\n",
        "for i,j in enumerate(list_1,start=1):\n",
        "  print(f\"Name of the student is {j} and the roll number is {i}\")"
      ],
      "metadata": {
        "id": "ESFRrcRJw2L8",
        "colab": {
          "base_uri": "https://localhost:8080/"
        },
        "outputId": "41dd55b2-96a5-4c97-c64a-d2b650f8d468"
      },
      "execution_count": 45,
      "outputs": [
        {
          "output_type": "stream",
          "name": "stdout",
          "text": [
            "Name of the student is ram and the roll number is 1\n",
            "Name of the student is shyam and the roll number is 2\n",
            "Name of the student is rohan and the roll number is 3\n",
            "Name of the student is sohan and the roll number is 4\n",
            "Name of the student is shivam and the roll number is 5\n"
          ]
        }
      ]
    },
    {
      "cell_type": "markdown",
      "source": [
        "#Question - 3"
      ],
      "metadata": {
        "id": "Lu7wCpei_q46"
      }
    },
    {
      "cell_type": "markdown",
      "source": [
        "run()"
      ],
      "metadata": {
        "id": "YCPk-SgM_u9k"
      }
    },
    {
      "cell_type": "code",
      "source": [
        "#The run() method is often used in conjunction with the if __name__ == \"__main__\": conditional statement,\n",
        "# which allows you to define a block of code that should only run if the script is directly executed, rather than being imported as a module."
      ],
      "metadata": {
        "id": "bERKr4ttA9RL"
      },
      "execution_count": null,
      "outputs": []
    },
    {
      "cell_type": "code",
      "source": [
        "def test5():\n",
        "    print(\"My name is diveyesh\")\n",
        "\n",
        "if __name__ == \"__main__\":\n",
        "    print(\"This will be printed first\")\n",
        "    test5()\n"
      ],
      "metadata": {
        "id": "mVMzmUKjw2JH",
        "colab": {
          "base_uri": "https://localhost:8080/"
        },
        "outputId": "b3f3a24d-1074-4e97-cceb-541ebaf42c58"
      },
      "execution_count": 49,
      "outputs": [
        {
          "output_type": "stream",
          "name": "stdout",
          "text": [
            "This will be printed first\n",
            "My name is diveyesh\n"
          ]
        }
      ]
    },
    {
      "cell_type": "markdown",
      "source": [
        "start()"
      ],
      "metadata": {
        "id": "r24aYt5ABWpX"
      }
    },
    {
      "cell_type": "code",
      "source": [
        "# start() is not a built-in function.\n",
        "#However, there are several libraries and frameworks where start() is commonly used as a\n",
        "#method to initiate or begin a specific process or functionality."
      ],
      "metadata": {
        "id": "X1ttwSzbBWX1"
      },
      "execution_count": null,
      "outputs": []
    },
    {
      "cell_type": "code",
      "source": [
        "# Use of start in threading module"
      ],
      "metadata": {
        "id": "z0tKfrQww2Gw"
      },
      "execution_count": 50,
      "outputs": []
    },
    {
      "cell_type": "code",
      "source": [
        "import threading\n",
        "\n",
        "def test_6(name):\n",
        "  print(f\"welcome {name}\")\n",
        "\n",
        "thread_1 = threading.Thread(target=test_6,args=(\"rohan\",))\n",
        "thread_1.start()"
      ],
      "metadata": {
        "id": "rdQulkX9w2D-",
        "colab": {
          "base_uri": "https://localhost:8080/"
        },
        "outputId": "f8b8d746-89f3-4344-8e10-82dc9be24b77"
      },
      "execution_count": 55,
      "outputs": [
        {
          "output_type": "stream",
          "name": "stdout",
          "text": [
            "welcome rohan\n"
          ]
        }
      ]
    },
    {
      "cell_type": "markdown",
      "source": [
        "join()"
      ],
      "metadata": {
        "id": "dYIkIIHNC3hk"
      }
    },
    {
      "cell_type": "code",
      "source": [
        "#The join() method for threads is used to wait for a thread to complete its execution before proceeding with the rest of the code.\n",
        "#It allows one thread to \"join\" or wait for the completion of another thread."
      ],
      "metadata": {
        "id": "k3MnzWYkw2BI"
      },
      "execution_count": null,
      "outputs": []
    },
    {
      "cell_type": "code",
      "source": [
        "import threading\n",
        "import time as t\n",
        "\n",
        "def display_name(name):\n",
        "  print(name)\n",
        "  t.sleep(5)\n",
        "\n",
        "name_list = threading.Thread(target=display_name,args=(\"rohan\",))\n",
        "name_list.start()\n",
        "name_list.join()\n",
        "print(\"after the completion of 5 sec, this line will be printed\")\n",
        "\n",
        "\n",
        "\n"
      ],
      "metadata": {
        "id": "ysrd-jd8w1-2",
        "colab": {
          "base_uri": "https://localhost:8080/"
        },
        "outputId": "c7a27cdf-811c-4d89-9a4e-340909022964"
      },
      "execution_count": 69,
      "outputs": [
        {
          "output_type": "stream",
          "name": "stdout",
          "text": [
            "rohan\n",
            "after the completion of 5 sec, this line will be printed\n"
          ]
        }
      ]
    },
    {
      "cell_type": "markdown",
      "source": [
        "isAlive()"
      ],
      "metadata": {
        "id": "9G0xc90lKkwD"
      }
    },
    {
      "cell_type": "code",
      "source": [
        "# The isAlive() method is not a built-in function in Python.\n",
        "# However, it is commonly used in multithreading to check whether a thread is currently running or has completed its execution."
      ],
      "metadata": {
        "id": "YLPN8lkdw175"
      },
      "execution_count": 70,
      "outputs": []
    },
    {
      "cell_type": "code",
      "source": [
        "import threading\n",
        "import time as t\n",
        "\n",
        "def display_name(name):\n",
        "  print(name)\n",
        "  t.sleep(5)\n",
        "\n",
        "name_list = threading.Thread(target=display_name,args=(\"rohan\",))\n",
        "name_list.start()\n",
        "\n",
        "if name_list.is_alive():\n",
        "    print(\"Thread is still running\")\n",
        "else:\n",
        "    print(\"Thread has completed its execution\")"
      ],
      "metadata": {
        "id": "EpRm-JFgw15J",
        "colab": {
          "base_uri": "https://localhost:8080/"
        },
        "outputId": "f7d555d9-5f19-4524-f1f3-05a7ade009a8"
      },
      "execution_count": 73,
      "outputs": [
        {
          "output_type": "stream",
          "name": "stdout",
          "text": [
            "rohanThread is still running\n",
            "\n"
          ]
        }
      ]
    },
    {
      "cell_type": "markdown",
      "source": [
        "#Question - 4"
      ],
      "metadata": {
        "id": "-H5rQsnNPmUC"
      }
    },
    {
      "cell_type": "code",
      "source": [
        "import threading\n",
        "\n",
        "def squares(n):\n",
        "    for i in range(1, n+1):\n",
        "        print(i**2)\n",
        "\n",
        "def cubes(n):\n",
        "    for i in range(1, n+1):\n",
        "        print(i**3)\n",
        "\n",
        "square = threading.Thread(target=squares, args=(10,))\n",
        "cube = threading.Thread(target=cubes, args=(10,))\n",
        "\n",
        "square.start()\n",
        "cube.start()\n",
        "\n",
        "square.join()\n",
        "cube.join()"
      ],
      "metadata": {
        "colab": {
          "base_uri": "https://localhost:8080/"
        },
        "id": "MG9GMy_OKn25",
        "outputId": "265fe28c-953b-4f71-c2c1-15367c39b4fd"
      },
      "execution_count": 98,
      "outputs": [
        {
          "output_type": "stream",
          "name": "stdout",
          "text": [
            "1\n",
            "4\n",
            "9\n",
            "16\n",
            "25\n",
            "36\n",
            "49\n",
            "64\n",
            "81\n",
            "100\n",
            "1\n",
            "8\n",
            "27\n",
            "64\n",
            "125\n",
            "216\n",
            "343\n",
            "512\n",
            "729\n",
            "1000\n"
          ]
        }
      ]
    },
    {
      "cell_type": "markdown",
      "source": [
        "#Question - 5"
      ],
      "metadata": {
        "id": "LlT1rWlBUra1"
      }
    },
    {
      "cell_type": "code",
      "source": [
        "# Advantage sof multithreading\n",
        "#Increased Performance\n",
        "#Responsiveness and Concurrency\n",
        "#Resource Sharing and Efficiency\n",
        "#Modular and Simplified Design"
      ],
      "metadata": {
        "id": "laKl09OBKn0S"
      },
      "execution_count": 99,
      "outputs": []
    },
    {
      "cell_type": "code",
      "source": [
        "# Disadvantage sof multithreading\n",
        "#Complexity and Synchronization\n",
        "#Debugging and Testing Challenges\n",
        "#Overhead and Resource Consumption\n",
        "#Scalability Challenges"
      ],
      "metadata": {
        "id": "ixngPucFKnxw"
      },
      "execution_count": 100,
      "outputs": []
    },
    {
      "cell_type": "markdown",
      "source": [
        "#Question -6"
      ],
      "metadata": {
        "id": "AHo11aicYnTn"
      }
    },
    {
      "cell_type": "code",
      "source": [
        "# Deadlock refers to a situation where two or more threads or processes are unable to proceed because each is waiting\n",
        "# for the other to release a resource. In other words, it's a state of impasse where no progress can be made."
      ],
      "metadata": {
        "id": "dm8-XqViKnu2"
      },
      "execution_count": null,
      "outputs": []
    },
    {
      "cell_type": "code",
      "source": [
        "# A race condition occurs when two or more threads or processes access shared data simultaneously,\n",
        "# and the final outcome depends on the specific order in which the access occurs.\n",
        "# The result of the program becomes unpredictable because the threads \"race\" to perform their operations on shared resources."
      ],
      "metadata": {
        "id": "tjVVXUNnKnr9"
      },
      "execution_count": null,
      "outputs": []
    },
    {
      "cell_type": "code",
      "source": [],
      "metadata": {
        "id": "VjAWdy3BKnpe"
      },
      "execution_count": null,
      "outputs": []
    }
  ]
}